{
 "cells": [
  {
   "cell_type": "code",
   "execution_count": null,
   "metadata": {},
   "outputs": [],
   "source": [
    "\n",
    "\n",
    "import pandas as pd\n",
    "import numpy as np\n",
    "import matplotlib.pyplot as plt\n",
    "import seaborn as sns\n",
    "\n",
    "# Set visualization styles\n",
    "sns.set(style=\"whitegrid\")\n"
   ]
  },
  {
   "cell_type": "code",
   "execution_count": null,
   "metadata": {},
   "outputs": [],
   "source": [
    "# Load the dataset\n",
    "file_path = 'EthioMart/data/my_data.csv'  # Adjust to your data path\n",
    "data = pd.read_csv(file_path)\n",
    "\n",
    "# Display the first few rows of the dataset\n",
    "data.head()\n"
   ]
  },
  {
   "cell_type": "code",
   "execution_count": null,
   "metadata": {},
   "outputs": [],
   "source": [
    "# Get basic information about the dataset\n",
    "data.info()\n",
    "\n",
    "# Summary statistics\n",
    "data.describe()\n"
   ]
  },
  {
   "cell_type": "code",
   "execution_count": null,
   "metadata": {},
   "outputs": [],
   "source": [
    "# Check for missing values\n",
    "missing_values = data.isnull().sum()\n",
    "missing_values[missing_values > 0]\n"
   ]
  },
  {
   "cell_type": "code",
   "execution_count": null,
   "metadata": {},
   "outputs": [],
   "source": [
    "# Plot distributions of numerical features\n",
    "numerical_cols = data.select_dtypes(include=[np.number]).columns.tolist()\n",
    "\n",
    "plt.figure(figsize=(16, 12))\n",
    "for i, col in enumerate(numerical_cols):\n",
    "    plt.subplot(4, 3, i + 1)  # Adjust the layout based on the number of numerical columns\n",
    "    sns.histplot(data[col], bins=30, kde=True)\n",
    "    plt.title(f'Distribution of {col}')\n",
    "plt.tight_layout()\n",
    "plt.show()\n"
   ]
  },
  {
   "cell_type": "code",
   "execution_count": null,
   "metadata": {},
   "outputs": [],
   "source": [
    "# Visualize categorical features\n",
    "categorical_cols = data.select_dtypes(include=['object']).columns.tolist()\n",
    "\n",
    "plt.figure(figsize=(16, 12))\n",
    "for i, col in enumerate(categorical_cols):\n",
    "    plt.subplot(4, 3, i + 1)  # Adjust the layout based on the number of categorical columns\n",
    "    sns.countplot(y=data[col], order=data[col].value_counts().index)\n",
    "    plt.title(f'Count of {col}')\n",
    "plt.tight_layout()\n",
    "plt.show()\n"
   ]
  },
  {
   "cell_type": "code",
   "execution_count": null,
   "metadata": {},
   "outputs": [],
   "source": [
    "# Correlation heatmap\n",
    "plt.figure(figsize=(10, 8))\n",
    "correlation_matrix = data.corr()\n",
    "sns.heatmap(correlation_matrix, annot=True, fmt=\".2f\", cmap='coolwarm', square=True)\n",
    "plt.title('Correlation Heatmap')\n",
    "plt.show()\n"
   ]
  },
  {
   "cell_type": "code",
   "execution_count": null,
   "metadata": {},
   "outputs": [],
   "source": [
    "# Pair plot for numerical features\n",
    "sns.pairplot(data[numerical_cols])\n",
    "plt.show()\n"
   ]
  },
  {
   "cell_type": "code",
   "execution_count": null,
   "metadata": {},
   "outputs": [],
   "source": [
    "\n",
    "### Explanation of Sections\n",
    "\n",
    "1. **Import Libraries**: \n",
    "   - Import necessary libraries for data manipulation and visualization.\n",
    "\n",
    "2. **Load Data**: \n",
    "   - Load your dataset and display the first few rows to understand its structure.\n",
    "\n",
    "3. **Data Overview**: \n",
    "   - Get an overview of the dataset, including information and summary statistics.\n",
    "\n",
    "4. **Check for Missing Values**: \n",
    "   - Identify any missing values in the dataset.\n",
    "\n",
    "5. **Visualize Distributions**: \n",
    "   - Plot histograms of numerical features to understand their distributions.\n",
    "\n",
    "6. **Categorical Feature Analysis**: \n",
    "   - Visualize the distribution of categorical features using count plots.\n",
    "\n",
    "7. **Correlation Analysis**: \n",
    "   - Create a heatmap to visualize correlations between numerical features.\n",
    "\n",
    "8. **Pair Plot**: \n",
    "   - Use a pair plot to visualize relationships between numerical features.\n",
    "\n",
    "9. **Conclusion**: \n",
    "   - Summarize the findings from the exploration.\n",
    "\n",
    "### Usage\n",
    "\n",
    "- Save this notebook content in a file named `data_exploration.ipynb`.\n",
    "- Open it using Jupyter Notebook or Jupyter Lab, run the cells sequentially, and modify paths and column names as needed to fit your dataset.\n",
    "\n",
    "Feel free to add more sections or modify existing ones based on your specific analysis goals! If you need further customization or additional analyses, let me know!\n"
   ]
  }
 ],
 "metadata": {
  "language_info": {
   "name": "python"
  }
 },
 "nbformat": 4,
 "nbformat_minor": 2
}
